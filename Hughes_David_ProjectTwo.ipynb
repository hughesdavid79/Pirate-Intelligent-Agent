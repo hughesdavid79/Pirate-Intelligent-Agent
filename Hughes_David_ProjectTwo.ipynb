{
 "cells": [
  {
   "cell_type": "markdown",
   "metadata": {},
   "source": [
    "# Treasure Hunt Game Notebook\n",
    "\n",
    "## Read and Review Your Starter Code\n",
    "The theme of this project is a popular treasure hunt game in which the player needs to find the treasure before the pirate does. While you will not be developing the entire game, you will write the part of the game that represents the intelligent agent, which is a pirate in this case. The pirate will try to find the optimal path to the treasure using deep Q-learning. \n",
    "\n",
    "You have been provided with two Python classes and this notebook to help you with this assignment. The first class, TreasureMaze.py, represents the environment, which includes a maze object defined as a matrix. The second class, GameExperience.py, stores the episodes – that is, all the states that come in between the initial state and the terminal state. This is later used by the agent for learning by experience, called \"exploration\". This notebook shows how to play a game. Your task is to complete the deep Q-learning implementation for which a skeleton implementation has been provided. The code blocks you will need to complete has #TODO as a header.\n",
    "\n",
    "First, read and review the next few code and instruction blocks to understand the code that you have been given."
   ]
  },
  {
   "cell_type": "code",
   "execution_count": 200,
   "metadata": {},
   "outputs": [],
   "source": [
    "from __future__ import print_function\n",
    "import os, sys, time, datetime, json, random\n",
    "import numpy as np\n",
    "from keras.models import Sequential\n",
    "from keras.layers.core import Dense, Activation\n",
    "from keras.optimizers import SGD , Adam, RMSprop\n",
    "from keras.layers.advanced_activations import PReLU\n",
    "import matplotlib.pyplot as plt\n",
    "from TreasureMaze import TreasureMaze\n",
    "from GameExperience import GameExperience\n",
    "%matplotlib inline"
   ]
  },
  {
   "cell_type": "markdown",
   "metadata": {},
   "source": [
    "The following code block contains an 8x8 matrix that will be used as a maze object:"
   ]
  },
  {
   "cell_type": "code",
   "execution_count": 201,
   "metadata": {},
   "outputs": [],
   "source": [
    "maze = np.array([\n",
    "    [ 1.,  0.,  1.,  1.,  1.,  1.,  1.,  1.],\n",
    "    [ 1.,  0.,  1.,  1.,  1.,  0.,  1.,  1.],\n",
    "    [ 1.,  1.,  1.,  1.,  0.,  1.,  0.,  1.],\n",
    "    [ 1.,  1.,  1.,  0.,  1.,  1.,  1.,  1.],\n",
    "    [ 1.,  1.,  0.,  1.,  1.,  1.,  1.,  1.],\n",
    "    [ 1.,  1.,  1.,  0.,  1.,  0.,  0.,  0.],\n",
    "    [ 1.,  1.,  1.,  0.,  1.,  1.,  1.,  1.],\n",
    "    [ 1.,  1.,  1.,  1.,  0.,  1.,  1.,  1.]\n",
    "])"
   ]
  },
  {
   "cell_type": "markdown",
   "metadata": {},
   "source": [
    "This helper function allows a visual representation of the maze object:"
   ]
  },
  {
   "cell_type": "code",
   "execution_count": 202,
   "metadata": {},
   "outputs": [],
   "source": [
    "def show(qmaze):\n",
    "    plt.grid('on')\n",
    "    nrows, ncols = qmaze.maze.shape\n",
    "    ax = plt.gca()\n",
    "    ax.set_xticks(np.arange(0.5, nrows, 1))\n",
    "    ax.set_yticks(np.arange(0.5, ncols, 1))\n",
    "    ax.set_xticklabels([])\n",
    "    ax.set_yticklabels([])\n",
    "    canvas = np.copy(qmaze.maze)\n",
    "    for row,col in qmaze.visited:\n",
    "        canvas[row,col] = 0.6\n",
    "    pirate_row, pirate_col, _ = qmaze.state\n",
    "    canvas[pirate_row, pirate_col] = 0.3   # pirate cell\n",
    "    canvas[nrows-1, ncols-1] = 0.9 # treasure cell\n",
    "    img = plt.imshow(canvas, interpolation='none', cmap='gray')\n",
    "    return img"
   ]
  },
  {
   "cell_type": "markdown",
   "metadata": {},
   "source": [
    "The pirate agent can move in four directions: left, right, up, and down. \n",
    "\n",
    "While the agent primarily learns by experience through exploitation, often, the agent can choose to explore the environment to find previously undiscovered paths. This is called \"exploration\" and is defined by epsilon. This value is typically a lower value such as 0.1, which means for every ten attempts, the agent will attempt to learn by experience nine times and will randomly explore a new path one time. You are encouraged to try various values for the exploration factor and see how the algorithm performs."
   ]
  },
  {
   "cell_type": "code",
   "execution_count": 203,
   "metadata": {},
   "outputs": [],
   "source": [
    "LEFT = 0\n",
    "UP = 1\n",
    "RIGHT = 2\n",
    "DOWN = 3\n",
    "\n",
    "\n",
    "# Exploration factor\n",
    "epsilon = 0.1\n",
    "\n",
    "# Actions dictionary\n",
    "actions_dict = {\n",
    "    LEFT: 'left',\n",
    "    UP: 'up',\n",
    "    RIGHT: 'right',\n",
    "    DOWN: 'down',\n",
    "}\n",
    "\n",
    "num_actions = len(actions_dict)\n"
   ]
  },
  {
   "cell_type": "markdown",
   "metadata": {},
   "source": [
    "The sample code block and output below show creating a maze object and performing one action (DOWN), which returns the reward. The resulting updated environment is visualized."
   ]
  },
  {
   "cell_type": "code",
   "execution_count": 204,
   "metadata": {},
   "outputs": [
    {
     "name": "stdout",
     "output_type": "stream",
     "text": [
      "reward= -0.04\n"
     ]
    },
    {
     "data": {
      "text/plain": [
       "<matplotlib.image.AxesImage at 0x26614226b88>"
      ]
     },
     "execution_count": 204,
     "metadata": {},
     "output_type": "execute_result"
    },
    {
     "data": {
      "image/png": "[encoded data removed]",
      "text/plain": [
       "<Figure size 432x288 with 1 Axes>"
      ]
     },
     "metadata": {
      "needs_background": "light"
     },
     "output_type": "display_data"
    }
   ],
   "source": [
    "qmaze = TreasureMaze(maze)\n",
    "canvas, reward, game_over = qmaze.act(DOWN)\n",
    "print(\"reward=\", reward)\n",
    "show(qmaze)"
   ]
  },
  {
   "cell_type": "markdown",
   "metadata": {},
   "source": [
    "This function simulates a full game based on the provided trained model. The other parameters include the TreasureMaze object and the starting position of the pirate."
   ]
  },
  {
   "cell_type": "code",
   "execution_count": 205,
   "metadata": {},
   "outputs": [],
   "source": [
    "def play_game(model, qmaze, pirate_cell):\n",
    "    qmaze.reset(pirate_cell)\n",
    "    envstate = qmaze.observe()\n",
    "    while True:\n",
    "        prev_envstate = envstate\n",
    "        # get next action\n",
    "        q = model.predict(prev_envstate)\n",
    "        action = np.argmax(q[0])\n",
    "\n",
    "        # apply action, get rewards and new state\n",
    "        envstate, reward, game_status = qmaze.act(action)\n",
    "        if game_status == 'win':\n",
    "            return True\n",
    "        elif game_status == 'lose':\n",
    "            return False"
   ]
  },
  {
   "cell_type": "markdown",
   "metadata": {},
   "source": [
    "This function helps you to determine whether the pirate can win any game at all. If your maze is not well designed, the pirate may not win any game at all. In this case, your training would not yield any result. The provided maze in this notebook ensures that there is a path to win and you can run this method to check."
   ]
  },
  {
   "cell_type": "code",
   "execution_count": 206,
   "metadata": {},
   "outputs": [],
   "source": [
    "def completion_check(model, qmaze):\n",
    "    for cell in qmaze.free_cells:\n",
    "        if not qmaze.valid_actions(cell):\n",
    "            return False\n",
    "        if not play_game(model, qmaze, cell):\n",
    "            return False\n",
    "    return True"
   ]
  },
  {
   "cell_type": "markdown",
   "metadata": {},
   "source": [
    "The code you have been given in this block will build the neural network model. Review the code and note the number of layers, as well as the activation, optimizer, and loss functions that are used to train the model."
   ]
  },
  {
   "cell_type": "code",
   "execution_count": 207,
   "metadata": {},
   "outputs": [],
   "source": [
    "def build_model(maze):\n",
    "    model = Sequential()\n",
    "    model.add(Dense(maze.size, input_shape=(maze.size,)))\n",
    "    model.add(PReLU())\n",
    "    model.add(Dense(maze.size))\n",
    "    model.add(PReLU())\n",
    "    model.add(Dense(num_actions))\n",
    "    model.compile(optimizer='adam', loss='mse')\n",
    "    return model"
   ]
  },
  {
   "cell_type": "markdown",
   "metadata": {},
   "source": [
    "# #TODO: Complete the Q-Training Algorithm Code Block\n",
    "\n",
    "This is your deep Q-learning implementation. The goal of your deep Q-learning implementation is to find the best possible navigation sequence that results in reaching the treasure cell while maximizing the reward. In your implementation, you need to determine the optimal number of epochs to achieve a 100% win rate.\n",
    "\n",
    "You will need to complete the section starting with #pseudocode. The pseudocode has been included for you."
   ]
  },
  {
   "cell_type": "code",
   "execution_count": 208,
   "metadata": {},
   "outputs": [],
   "source": [
    "def qtrain(model, maze, **opt):\n",
    "\n",
    "    global epsilon \n",
    "\n",
    "    n_epoch = opt.get('n_epoch', 15000)\n",
    "    max_memory = opt.get('max_memory', 1000)\n",
    "    data_size = opt.get('data_size', 50)\n",
    "    start_time = datetime.datetime.now()\n",
    "\n",
    "    qmaze = TreasureMaze(maze)\n",
    "    experience = GameExperience(model, max_memory=max_memory)\n",
    "    \n",
    "    win_history = []   \n",
    "    hsize = qmaze.maze.size // 2   \n",
    "    win_rate = 0.0\n",
    "    decayRate = 0.05  # Slightly slower decay for learning rate\n",
    "    epsilon_decay = 0.995  # Slower epsilon decay for more exploration\n",
    "    min_epsilon = 0.1  # Don't let epsilon go too low\n",
    "    \n",
    "    for epoch in range(n_epoch):\n",
    "        Agent_cell = random.choice(qmaze.free_cells)\n",
    "        qmaze.reset(Agent_cell)\n",
    "        envstate = qmaze.observe()\n",
    "        \n",
    "        n_episodes = 0\n",
    "        loss = 0.0\n",
    "        \n",
    "        while True:\n",
    "            previous_envstate = envstate\n",
    "            validAction = qmaze.valid_actions()\n",
    "            \n",
    "            if len(validAction) == 0: break\n",
    "                \n",
    "            if np.random.rand() < epsilon:\n",
    "                Action = random.choice(validAction)\n",
    "            else:\n",
    "                Action = np.argmax(model.predict(previous_envstate))\n",
    "\n",
    "            envstate, reward, game_status = qmaze.act(Action)\n",
    "            \n",
    "            episode = [previous_envstate, Action, reward, envstate, game_status]\n",
    "            n_episodes += 1\n",
    "            experience.remember(episode)\n",
    "            \n",
    "            inputs, targets = experience.get_data()\n",
    "            model.fit(inputs, targets, epochs=4, batch_size=16, verbose=0)\n",
    "            loss = model.evaluate(inputs, targets, verbose=0)\n",
    "            \n",
    "            if game_status == 'win':\n",
    "                win_history.append(1)\n",
    "                break\n",
    "                \n",
    "            elif game_status == 'lose':\n",
    "                win_history.append(0)\n",
    "                break\n",
    "            \n",
    "        if len(win_history) > hsize:\n",
    "            win_history = win_history[-hsize:]\n",
    "        win_rate = sum(win_history[-hsize:]) / hsize\n",
    "\n",
    "        # Adjust epsilon\n",
    "        epsilon = max(min_epsilon, epsilon * epsilon_decay)\n",
    "        \n",
    "        # Logging the progress\n",
    "        dt = datetime.datetime.now() - start_time\n",
    "        t = format_time(dt.total_seconds())\n",
    "        print(f\"Epoch: {epoch:03d}/{n_epoch-1} | Loss: {loss:.4f} | Episodes: {n_episodes} | Win count: {sum(win_history)} | Win rate: {win_rate:.3f} | time: {t}\")\n",
    "\n",
    "        if win_rate > 0.9 and sum(win_history[-hsize:]) == hsize:\n",
    "            print(f\"Reached 100% win rate at epoch: {epoch}\")\n",
    "            break\n",
    "    \n",
    "    dt = datetime.datetime.now() - start_time\n",
    "    t = format_time(dt.total_seconds())\n",
    "    print(f\"Training complete in {t}\")\n",
    "    return model\n",
    "\n",
    "def format_time(seconds):\n",
    "    if seconds < 400:\n",
    "        return f\"{seconds:.1f} seconds\"\n",
    "    elif seconds < 4000:\n",
    "        return f\"{seconds / 60:.2f} minutes\"\n",
    "    else:\n",
    "        return f\"{seconds / 3600:.2f} hours\"\n"
   ]
  },
  {
   "cell_type": "code",
   "execution_count": null,
   "metadata": {},
   "outputs": [],
   "source": []
  },
  {
   "cell_type": "markdown",
   "metadata": {},
   "source": [
    "## Test Your Model\n",
    "\n",
    "Now we will start testing the deep Q-learning implementation. To begin, select **Cell**, then **Run All** from the menu bar. This will run your notebook. As it runs, you should see output begin to appear beneath the next few cells. The code below creates an instance of TreasureMaze."
   ]
  },
  {
   "cell_type": "code",
   "execution_count": 209,
   "metadata": {
    "scrolled": true
   },
   "outputs": [
    {
     "data": {
      "text/plain": [
       "<matplotlib.image.AxesImage at 0x2661428da48>"
      ]
     },
     "execution_count": 209,
     "metadata": {},
     "output_type": "execute_result"
    },
    {
     "data": {
      "image/png": "[encoded data removed]",
      "text/plain": [
       "<Figure size 432x288 with 1 Axes>"
      ]
     },
     "metadata": {
      "needs_background": "light"
     },
     "output_type": "display_data"
    }
   ],
   "source": [
    "qmaze = TreasureMaze(maze)\n",
    "show(qmaze)"
   ]
  },
  {
   "cell_type": "markdown",
   "metadata": {},
   "source": [
    "In the next code block, you will build your model and train it using deep Q-learning. Note: This step takes several minutes to fully run."
   ]
  },
  {
   "cell_type": "code",
   "execution_count": 210,
   "metadata": {},
   "outputs": [
    {
     "name": "stdout",
     "output_type": "stream",
     "text": [
      "Epoch: 000/14999 | Loss: 0.0475 | Episodes: 12 | Win count: 1 | Win rate: 0.031 | time: 2.0 seconds\n",
      "Epoch: 001/14999 | Loss: 0.0001 | Episodes: 133 | Win count: 1 | Win rate: 0.031 | time: 5.7 seconds\n",
      "Epoch: 002/14999 | Loss: 0.0002 | Episodes: 132 | Win count: 1 | Win rate: 0.031 | time: 9.3 seconds\n",
      "Epoch: 003/14999 | Loss: 0.0002 | Episodes: 134 | Win count: 1 | Win rate: 0.031 | time: 13.0 seconds\n",
      "Epoch: 004/14999 | Loss: 0.0002 | Episodes: 134 | Win count: 1 | Win rate: 0.031 | time: 16.9 seconds\n",
      "Epoch: 005/14999 | Loss: 0.0001 | Episodes: 133 | Win count: 1 | Win rate: 0.031 | time: 20.5 seconds\n",
      "Epoch: 006/14999 | Loss: 0.0005 | Episodes: 11 | Win count: 2 | Win rate: 0.062 | time: 20.8 seconds\n",
      "Epoch: 007/14999 | Loss: 0.0021 | Episodes: 137 | Win count: 2 | Win rate: 0.062 | time: 24.6 seconds\n",
      "Epoch: 008/14999 | Loss: 0.0010 | Episodes: 141 | Win count: 2 | Win rate: 0.062 | time: 28.3 seconds\n",
      "Epoch: 009/14999 | Loss: 0.0008 | Episodes: 140 | Win count: 2 | Win rate: 0.062 | time: 32.4 seconds\n",
      "Epoch: 010/14999 | Loss: 0.0013 | Episodes: 136 | Win count: 2 | Win rate: 0.062 | time: 36.4 seconds\n",
      "Epoch: 011/14999 | Loss: 0.0010 | Episodes: 139 | Win count: 2 | Win rate: 0.062 | time: 40.6 seconds\n",
      "Epoch: 012/14999 | Loss: 0.0005 | Episodes: 138 | Win count: 2 | Win rate: 0.062 | time: 44.9 seconds\n",
      "Epoch: 013/14999 | Loss: 0.0351 | Episodes: 79 | Win count: 3 | Win rate: 0.094 | time: 47.7 seconds\n",
      "Epoch: 014/14999 | Loss: 0.0002 | Episodes: 143 | Win count: 3 | Win rate: 0.094 | time: 52.1 seconds\n",
      "Epoch: 015/14999 | Loss: 0.0029 | Episodes: 139 | Win count: 3 | Win rate: 0.094 | time: 56.2 seconds\n",
      "Epoch: 016/14999 | Loss: 0.0004 | Episodes: 145 | Win count: 3 | Win rate: 0.094 | time: 60.2 seconds\n",
      "Epoch: 017/14999 | Loss: 0.0007 | Episodes: 94 | Win count: 4 | Win rate: 0.125 | time: 62.8 seconds\n",
      "Epoch: 018/14999 | Loss: 0.0003 | Episodes: 53 | Win count: 5 | Win rate: 0.156 | time: 64.3 seconds\n",
      "Epoch: 019/14999 | Loss: 0.0006 | Episodes: 138 | Win count: 5 | Win rate: 0.156 | time: 68.1 seconds\n",
      "Epoch: 020/14999 | Loss: 0.0013 | Episodes: 139 | Win count: 5 | Win rate: 0.156 | time: 71.7 seconds\n",
      "Epoch: 021/14999 | Loss: 0.0006 | Episodes: 140 | Win count: 5 | Win rate: 0.156 | time: 75.5 seconds\n",
      "Epoch: 022/14999 | Loss: 0.0010 | Episodes: 140 | Win count: 5 | Win rate: 0.156 | time: 79.5 seconds\n",
      "Epoch: 023/14999 | Loss: 0.0016 | Episodes: 144 | Win count: 5 | Win rate: 0.156 | time: 83.4 seconds\n",
      "Epoch: 024/14999 | Loss: 0.0011 | Episodes: 5 | Win count: 6 | Win rate: 0.188 | time: 83.5 seconds\n",
      "Epoch: 025/14999 | Loss: 0.0024 | Episodes: 57 | Win count: 7 | Win rate: 0.219 | time: 85.0 seconds\n",
      "Epoch: 026/14999 | Loss: 0.0013 | Episodes: 35 | Win count: 8 | Win rate: 0.250 | time: 85.9 seconds\n",
      "Epoch: 027/14999 | Loss: 0.0019 | Episodes: 145 | Win count: 9 | Win rate: 0.281 | time: 89.9 seconds\n",
      "Epoch: 028/14999 | Loss: 0.0018 | Episodes: 15 | Win count: 10 | Win rate: 0.312 | time: 90.4 seconds\n",
      "Epoch: 029/14999 | Loss: 0.0016 | Episodes: 92 | Win count: 11 | Win rate: 0.344 | time: 92.9 seconds\n",
      "Epoch: 030/14999 | Loss: 0.0019 | Episodes: 40 | Win count: 12 | Win rate: 0.375 | time: 94.0 seconds\n",
      "Epoch: 031/14999 | Loss: 0.0023 | Episodes: 20 | Win count: 13 | Win rate: 0.406 | time: 94.6 seconds\n",
      "Epoch: 032/14999 | Loss: 0.0027 | Episodes: 117 | Win count: 13 | Win rate: 0.406 | time: 98.1 seconds\n",
      "Epoch: 033/14999 | Loss: 0.0013 | Episodes: 139 | Win count: 13 | Win rate: 0.406 | time: 102.1 seconds\n",
      "Epoch: 034/14999 | Loss: 0.0024 | Episodes: 20 | Win count: 14 | Win rate: 0.438 | time: 102.7 seconds\n",
      "Epoch: 035/14999 | Loss: 0.0008 | Episodes: 139 | Win count: 14 | Win rate: 0.438 | time: 106.7 seconds\n",
      "Epoch: 036/14999 | Loss: 0.0004 | Episodes: 18 | Win count: 15 | Win rate: 0.469 | time: 107.3 seconds\n",
      "Epoch: 037/14999 | Loss: 0.0016 | Episodes: 147 | Win count: 15 | Win rate: 0.469 | time: 111.8 seconds\n",
      "Epoch: 038/14999 | Loss: 0.0015 | Episodes: 150 | Win count: 14 | Win rate: 0.438 | time: 115.9 seconds\n",
      "Epoch: 039/14999 | Loss: 0.0023 | Episodes: 21 | Win count: 15 | Win rate: 0.469 | time: 116.4 seconds\n",
      "Epoch: 040/14999 | Loss: 0.0012 | Episodes: 143 | Win count: 15 | Win rate: 0.469 | time: 120.4 seconds\n",
      "Epoch: 041/14999 | Loss: 0.0022 | Episodes: 13 | Win count: 16 | Win rate: 0.500 | time: 120.8 seconds\n",
      "Epoch: 042/14999 | Loss: 0.0005 | Episodes: 149 | Win count: 16 | Win rate: 0.500 | time: 125.4 seconds\n",
      "Epoch: 043/14999 | Loss: 0.0004 | Episodes: 84 | Win count: 17 | Win rate: 0.531 | time: 127.7 seconds\n",
      "Epoch: 044/14999 | Loss: 0.0007 | Episodes: 146 | Win count: 17 | Win rate: 0.531 | time: 132.0 seconds\n",
      "Epoch: 045/14999 | Loss: 0.0012 | Episodes: 138 | Win count: 16 | Win rate: 0.500 | time: 135.7 seconds\n",
      "Epoch: 046/14999 | Loss: 0.0012 | Episodes: 141 | Win count: 16 | Win rate: 0.500 | time: 139.7 seconds\n",
      "Epoch: 047/14999 | Loss: 0.0001 | Episodes: 151 | Win count: 16 | Win rate: 0.500 | time: 143.9 seconds\n",
      "Epoch: 048/14999 | Loss: 0.0009 | Episodes: 97 | Win count: 17 | Win rate: 0.531 | time: 146.7 seconds\n",
      "Epoch: 049/14999 | Loss: 0.0023 | Episodes: 139 | Win count: 16 | Win rate: 0.500 | time: 150.6 seconds\n",
      "Epoch: 050/14999 | Loss: 0.0016 | Episodes: 148 | Win count: 15 | Win rate: 0.469 | time: 154.6 seconds\n",
      "Epoch: 051/14999 | Loss: 0.0010 | Episodes: 147 | Win count: 15 | Win rate: 0.469 | time: 158.5 seconds\n",
      "Epoch: 052/14999 | Loss: 0.0007 | Episodes: 145 | Win count: 15 | Win rate: 0.469 | time: 162.4 seconds\n",
      "Epoch: 053/14999 | Loss: 0.0021 | Episodes: 15 | Win count: 16 | Win rate: 0.500 | time: 162.9 seconds\n",
      "Epoch: 054/14999 | Loss: 0.0009 | Episodes: 146 | Win count: 16 | Win rate: 0.500 | time: 167.1 seconds\n",
      "Epoch: 055/14999 | Loss: 0.0009 | Episodes: 141 | Win count: 16 | Win rate: 0.500 | time: 171.5 seconds\n",
      "Epoch: 056/14999 | Loss: 0.0009 | Episodes: 142 | Win count: 15 | Win rate: 0.469 | time: 176.6 seconds\n",
      "Epoch: 057/14999 | Loss: 0.0007 | Episodes: 139 | Win count: 14 | Win rate: 0.438 | time: 181.0 seconds\n",
      "Epoch: 058/14999 | Loss: 0.0013 | Episodes: 73 | Win count: 14 | Win rate: 0.438 | time: 183.3 seconds\n",
      "Epoch: 059/14999 | Loss: 0.0016 | Episodes: 22 | Win count: 14 | Win rate: 0.438 | time: 184.0 seconds\n",
      "Epoch: 060/14999 | Loss: 0.0018 | Episodes: 1 | Win count: 14 | Win rate: 0.438 | time: 184.0 seconds\n",
      "Epoch: 061/14999 | Loss: 0.0018 | Episodes: 138 | Win count: 13 | Win rate: 0.406 | time: 188.6 seconds\n",
      "Epoch: 062/14999 | Loss: 0.0014 | Episodes: 134 | Win count: 12 | Win rate: 0.375 | time: 192.9 seconds\n",
      "Epoch: 063/14999 | Loss: 0.0006 | Episodes: 3 | Win count: 12 | Win rate: 0.375 | time: 193.0 seconds\n",
      "Epoch: 064/14999 | Loss: 0.0030 | Episodes: 10 | Win count: 12 | Win rate: 0.375 | time: 193.3 seconds\n",
      "Epoch: 065/14999 | Loss: 0.0008 | Episodes: 23 | Win count: 13 | Win rate: 0.406 | time: 194.1 seconds\n",
      "Epoch: 066/14999 | Loss: 0.0020 | Episodes: 27 | Win count: 13 | Win rate: 0.406 | time: 194.9 seconds\n",
      "Epoch: 067/14999 | Loss: 0.0012 | Episodes: 23 | Win count: 14 | Win rate: 0.438 | time: 195.5 seconds\n",
      "Epoch: 068/14999 | Loss: 0.0001 | Episodes: 137 | Win count: 13 | Win rate: 0.406 | time: 199.9 seconds\n",
      "Epoch: 069/14999 | Loss: 0.0008 | Episodes: 133 | Win count: 13 | Win rate: 0.406 | time: 203.7 seconds\n",
      "Epoch: 070/14999 | Loss: 0.0008 | Episodes: 141 | Win count: 13 | Win rate: 0.406 | time: 208.2 seconds\n",
      "Epoch: 071/14999 | Loss: 0.0001 | Episodes: 103 | Win count: 13 | Win rate: 0.406 | time: 211.4 seconds\n",
      "Epoch: 072/14999 | Loss: 0.0007 | Episodes: 139 | Win count: 13 | Win rate: 0.406 | time: 215.7 seconds\n",
      "Epoch: 073/14999 | Loss: 0.0010 | Episodes: 2 | Win count: 13 | Win rate: 0.406 | time: 215.8 seconds\n",
      "Epoch: 074/14999 | Loss: 0.0001 | Episodes: 20 | Win count: 14 | Win rate: 0.438 | time: 216.4 seconds\n",
      "Epoch: 075/14999 | Loss: 0.0011 | Episodes: 146 | Win count: 13 | Win rate: 0.406 | time: 220.9 seconds\n",
      "Epoch: 076/14999 | Loss: 0.0024 | Episodes: 145 | Win count: 14 | Win rate: 0.438 | time: 225.1 seconds\n",
      "Epoch: 077/14999 | Loss: 0.0015 | Episodes: 124 | Win count: 15 | Win rate: 0.469 | time: 228.8 seconds\n",
      "Epoch: 078/14999 | Loss: 0.0022 | Episodes: 142 | Win count: 15 | Win rate: 0.469 | time: 233.1 seconds\n",
      "Epoch: 079/14999 | Loss: 0.0014 | Episodes: 26 | Win count: 16 | Win rate: 0.500 | time: 233.8 seconds\n"
     ]
    },
    {
     "name": "stdout",
     "output_type": "stream",
     "text": [
      "Epoch: 080/14999 | Loss: 0.0008 | Episodes: 45 | Win count: 16 | Win rate: 0.500 | time: 235.2 seconds\n",
      "Epoch: 081/14999 | Loss: 0.0021 | Episodes: 32 | Win count: 17 | Win rate: 0.531 | time: 236.1 seconds\n",
      "Epoch: 082/14999 | Loss: 0.0008 | Episodes: 2 | Win count: 18 | Win rate: 0.562 | time: 236.2 seconds\n",
      "Epoch: 083/14999 | Loss: 0.0020 | Episodes: 11 | Win count: 19 | Win rate: 0.594 | time: 236.5 seconds\n",
      "Epoch: 084/14999 | Loss: 0.0016 | Episodes: 141 | Win count: 19 | Win rate: 0.594 | time: 240.8 seconds\n",
      "Epoch: 085/14999 | Loss: 0.0007 | Episodes: 2 | Win count: 19 | Win rate: 0.594 | time: 240.8 seconds\n",
      "Epoch: 086/14999 | Loss: 0.0010 | Episodes: 10 | Win count: 20 | Win rate: 0.625 | time: 241.2 seconds\n",
      "Epoch: 087/14999 | Loss: 0.0003 | Episodes: 142 | Win count: 20 | Win rate: 0.625 | time: 245.3 seconds\n",
      "Epoch: 088/14999 | Loss: 0.0023 | Episodes: 30 | Win count: 21 | Win rate: 0.656 | time: 246.1 seconds\n",
      "Epoch: 089/14999 | Loss: 0.0014 | Episodes: 139 | Win count: 21 | Win rate: 0.656 | time: 250.1 seconds\n",
      "Epoch: 090/14999 | Loss: 0.0027 | Episodes: 123 | Win count: 21 | Win rate: 0.656 | time: 253.5 seconds\n",
      "Epoch: 091/14999 | Loss: 0.0011 | Episodes: 116 | Win count: 21 | Win rate: 0.656 | time: 256.8 seconds\n",
      "Epoch: 092/14999 | Loss: 0.0012 | Episodes: 142 | Win count: 20 | Win rate: 0.625 | time: 260.7 seconds\n",
      "Epoch: 093/14999 | Loss: 0.0022 | Episodes: 26 | Win count: 21 | Win rate: 0.656 | time: 261.4 seconds\n",
      "Epoch: 094/14999 | Loss: 0.0020 | Episodes: 146 | Win count: 21 | Win rate: 0.656 | time: 265.3 seconds\n",
      "Epoch: 095/14999 | Loss: 0.0007 | Episodes: 4 | Win count: 21 | Win rate: 0.656 | time: 265.5 seconds\n",
      "Epoch: 096/14999 | Loss: 0.0006 | Episodes: 135 | Win count: 20 | Win rate: 0.625 | time: 269.5 seconds\n",
      "Epoch: 097/14999 | Loss: 0.0011 | Episodes: 140 | Win count: 19 | Win rate: 0.594 | time: 273.3 seconds\n",
      "Epoch: 098/14999 | Loss: 0.0017 | Episodes: 148 | Win count: 18 | Win rate: 0.562 | time: 277.5 seconds\n",
      "Epoch: 099/14999 | Loss: 0.0014 | Episodes: 49 | Win count: 18 | Win rate: 0.562 | time: 278.8 seconds\n",
      "Epoch: 100/14999 | Loss: 0.0012 | Episodes: 1 | Win count: 19 | Win rate: 0.594 | time: 278.8 seconds\n",
      "Epoch: 101/14999 | Loss: 0.0009 | Episodes: 6 | Win count: 20 | Win rate: 0.625 | time: 279.0 seconds\n",
      "Epoch: 102/14999 | Loss: 0.0015 | Episodes: 134 | Win count: 21 | Win rate: 0.656 | time: 282.9 seconds\n",
      "Epoch: 103/14999 | Loss: 0.0032 | Episodes: 8 | Win count: 21 | Win rate: 0.656 | time: 283.1 seconds\n",
      "Epoch: 104/14999 | Loss: 0.0008 | Episodes: 111 | Win count: 22 | Win rate: 0.688 | time: 286.2 seconds\n",
      "Epoch: 105/14999 | Loss: 0.0007 | Episodes: 104 | Win count: 22 | Win rate: 0.688 | time: 289.0 seconds\n",
      "Epoch: 106/14999 | Loss: 0.0032 | Episodes: 89 | Win count: 22 | Win rate: 0.688 | time: 291.4 seconds\n",
      "Epoch: 107/14999 | Loss: 0.0006 | Episodes: 135 | Win count: 22 | Win rate: 0.688 | time: 295.2 seconds\n",
      "Epoch: 108/14999 | Loss: 0.0021 | Episodes: 136 | Win count: 21 | Win rate: 0.656 | time: 298.9 seconds\n",
      "Epoch: 109/14999 | Loss: 0.0002 | Episodes: 139 | Win count: 21 | Win rate: 0.656 | time: 302.9 seconds\n",
      "Epoch: 110/14999 | Loss: 0.0016 | Episodes: 3 | Win count: 22 | Win rate: 0.688 | time: 303.0 seconds\n",
      "Epoch: 111/14999 | Loss: 0.0003 | Episodes: 154 | Win count: 21 | Win rate: 0.656 | time: 307.4 seconds\n",
      "Epoch: 112/14999 | Loss: 0.0001 | Episodes: 123 | Win count: 21 | Win rate: 0.656 | time: 311.0 seconds\n",
      "Epoch: 113/14999 | Loss: 0.0010 | Episodes: 58 | Win count: 21 | Win rate: 0.656 | time: 312.8 seconds\n",
      "Epoch: 114/14999 | Loss: 0.0012 | Episodes: 1 | Win count: 21 | Win rate: 0.656 | time: 312.8 seconds\n",
      "Epoch: 115/14999 | Loss: 0.0004 | Episodes: 1 | Win count: 21 | Win rate: 0.656 | time: 312.8 seconds\n",
      "Epoch: 116/14999 | Loss: 0.0013 | Episodes: 144 | Win count: 22 | Win rate: 0.688 | time: 316.7 seconds\n",
      "Epoch: 117/14999 | Loss: 0.0008 | Episodes: 140 | Win count: 21 | Win rate: 0.656 | time: 320.5 seconds\n",
      "Epoch: 118/14999 | Loss: 0.0012 | Episodes: 140 | Win count: 20 | Win rate: 0.625 | time: 324.4 seconds\n",
      "Epoch: 119/14999 | Loss: 0.0008 | Episodes: 28 | Win count: 21 | Win rate: 0.656 | time: 325.2 seconds\n",
      "Epoch: 120/14999 | Loss: 0.0017 | Episodes: 14 | Win count: 21 | Win rate: 0.656 | time: 325.6 seconds\n",
      "Epoch: 121/14999 | Loss: 0.0015 | Episodes: 139 | Win count: 21 | Win rate: 0.656 | time: 329.5 seconds\n",
      "Epoch: 122/14999 | Loss: 0.0006 | Episodes: 145 | Win count: 20 | Win rate: 0.625 | time: 333.6 seconds\n",
      "Epoch: 123/14999 | Loss: 0.0002 | Episodes: 139 | Win count: 19 | Win rate: 0.594 | time: 337.5 seconds\n",
      "Epoch: 124/14999 | Loss: 0.0002 | Episodes: 57 | Win count: 20 | Win rate: 0.625 | time: 339.0 seconds\n",
      "Epoch: 125/14999 | Loss: 0.0009 | Episodes: 1 | Win count: 20 | Win rate: 0.625 | time: 339.0 seconds\n",
      "Epoch: 126/14999 | Loss: 0.0002 | Episodes: 125 | Win count: 21 | Win rate: 0.656 | time: 342.3 seconds\n",
      "Epoch: 127/14999 | Loss: 0.0002 | Episodes: 122 | Win count: 21 | Win rate: 0.656 | time: 345.7 seconds\n",
      "Epoch: 128/14999 | Loss: 0.0009 | Episodes: 32 | Win count: 22 | Win rate: 0.688 | time: 346.6 seconds\n",
      "Epoch: 129/14999 | Loss: 0.0021 | Episodes: 5 | Win count: 23 | Win rate: 0.719 | time: 346.7 seconds\n",
      "Epoch: 130/14999 | Loss: 0.0018 | Episodes: 93 | Win count: 24 | Win rate: 0.750 | time: 349.2 seconds\n",
      "Epoch: 131/14999 | Loss: 0.0004 | Episodes: 105 | Win count: 24 | Win rate: 0.750 | time: 352.1 seconds\n",
      "Epoch: 132/14999 | Loss: 0.0012 | Episodes: 139 | Win count: 23 | Win rate: 0.719 | time: 356.1 seconds\n",
      "Epoch: 133/14999 | Loss: 0.0019 | Episodes: 144 | Win count: 22 | Win rate: 0.688 | time: 360.4 seconds\n",
      "Epoch: 134/14999 | Loss: 0.0020 | Episodes: 1 | Win count: 22 | Win rate: 0.688 | time: 360.4 seconds\n",
      "Epoch: 135/14999 | Loss: 0.0020 | Episodes: 6 | Win count: 22 | Win rate: 0.688 | time: 360.6 seconds\n",
      "Epoch: 136/14999 | Loss: 0.0005 | Episodes: 12 | Win count: 22 | Win rate: 0.688 | time: 361.0 seconds\n",
      "Epoch: 137/14999 | Loss: 0.0007 | Episodes: 145 | Win count: 21 | Win rate: 0.656 | time: 365.2 seconds\n",
      "Epoch: 138/14999 | Loss: 0.0008 | Episodes: 9 | Win count: 21 | Win rate: 0.656 | time: 365.4 seconds\n",
      "Epoch: 139/14999 | Loss: 0.0010 | Episodes: 17 | Win count: 22 | Win rate: 0.688 | time: 365.9 seconds\n",
      "Epoch: 140/14999 | Loss: 0.0003 | Episodes: 31 | Win count: 23 | Win rate: 0.719 | time: 366.7 seconds\n",
      "Epoch: 141/14999 | Loss: 0.0003 | Episodes: 140 | Win count: 22 | Win rate: 0.688 | time: 370.6 seconds\n",
      "Epoch: 142/14999 | Loss: 0.0001 | Episodes: 9 | Win count: 22 | Win rate: 0.688 | time: 370.8 seconds\n",
      "Epoch: 143/14999 | Loss: 0.0015 | Episodes: 136 | Win count: 22 | Win rate: 0.688 | time: 374.9 seconds\n",
      "Epoch: 144/14999 | Loss: 0.0014 | Episodes: 139 | Win count: 21 | Win rate: 0.656 | time: 378.8 seconds\n",
      "Epoch: 145/14999 | Loss: 0.0011 | Episodes: 143 | Win count: 20 | Win rate: 0.625 | time: 382.6 seconds\n",
      "Epoch: 146/14999 | Loss: 0.0007 | Episodes: 139 | Win count: 19 | Win rate: 0.594 | time: 386.2 seconds\n",
      "Epoch: 147/14999 | Loss: 0.0021 | Episodes: 1 | Win count: 19 | Win rate: 0.594 | time: 386.2 seconds\n",
      "Epoch: 148/14999 | Loss: 0.0008 | Episodes: 33 | Win count: 19 | Win rate: 0.594 | time: 387.3 seconds\n",
      "Epoch: 149/14999 | Loss: 0.0010 | Episodes: 48 | Win count: 20 | Win rate: 0.625 | time: 388.8 seconds\n",
      "Epoch: 150/14999 | Loss: 0.0009 | Episodes: 140 | Win count: 20 | Win rate: 0.625 | time: 393.0 seconds\n",
      "Epoch: 151/14999 | Loss: 0.0001 | Episodes: 139 | Win count: 19 | Win rate: 0.594 | time: 397.0 seconds\n",
      "Epoch: 152/14999 | Loss: 0.0022 | Episodes: 139 | Win count: 18 | Win rate: 0.562 | time: 6.68 minutes\n",
      "Epoch: 153/14999 | Loss: 0.0001 | Episodes: 143 | Win count: 18 | Win rate: 0.562 | time: 6.74 minutes\n",
      "Epoch: 154/14999 | Loss: 0.0004 | Episodes: 28 | Win count: 19 | Win rate: 0.594 | time: 6.76 minutes\n",
      "Epoch: 155/14999 | Loss: 0.0015 | Episodes: 2 | Win count: 20 | Win rate: 0.625 | time: 6.76 minutes\n",
      "Epoch: 156/14999 | Loss: 0.0002 | Episodes: 50 | Win count: 20 | Win rate: 0.625 | time: 6.78 minutes\n",
      "Epoch: 157/14999 | Loss: 0.0008 | Episodes: 135 | Win count: 19 | Win rate: 0.594 | time: 6.84 minutes\n",
      "Epoch: 158/14999 | Loss: 0.0014 | Episodes: 47 | Win count: 19 | Win rate: 0.594 | time: 6.86 minutes\n",
      "Epoch: 159/14999 | Loss: 0.0004 | Episodes: 126 | Win count: 19 | Win rate: 0.594 | time: 6.91 minutes\n"
     ]
    },
    {
     "name": "stdout",
     "output_type": "stream",
     "text": [
      "Epoch: 160/14999 | Loss: 0.0014 | Episodes: 144 | Win count: 18 | Win rate: 0.562 | time: 6.97 minutes\n",
      "Epoch: 161/14999 | Loss: 0.0010 | Episodes: 9 | Win count: 18 | Win rate: 0.562 | time: 6.98 minutes\n",
      "Epoch: 162/14999 | Loss: 0.0008 | Episodes: 46 | Win count: 18 | Win rate: 0.562 | time: 7.00 minutes\n",
      "Epoch: 163/14999 | Loss: 0.0012 | Episodes: 137 | Win count: 17 | Win rate: 0.531 | time: 7.06 minutes\n",
      "Epoch: 164/14999 | Loss: 0.0033 | Episodes: 10 | Win count: 18 | Win rate: 0.562 | time: 7.06 minutes\n",
      "Epoch: 165/14999 | Loss: 0.0008 | Episodes: 3 | Win count: 19 | Win rate: 0.594 | time: 7.06 minutes\n",
      "Epoch: 166/14999 | Loss: 0.0005 | Episodes: 139 | Win count: 18 | Win rate: 0.562 | time: 7.12 minutes\n",
      "Epoch: 167/14999 | Loss: 0.0002 | Episodes: 14 | Win count: 18 | Win rate: 0.562 | time: 7.13 minutes\n",
      "Epoch: 168/14999 | Loss: 0.0004 | Episodes: 13 | Win count: 18 | Win rate: 0.562 | time: 7.14 minutes\n",
      "Epoch: 169/14999 | Loss: 0.0010 | Episodes: 14 | Win count: 19 | Win rate: 0.594 | time: 7.14 minutes\n",
      "Epoch: 170/14999 | Loss: 0.0012 | Episodes: 140 | Win count: 18 | Win rate: 0.562 | time: 7.21 minutes\n",
      "Epoch: 171/14999 | Loss: 0.0003 | Episodes: 16 | Win count: 18 | Win rate: 0.562 | time: 7.21 minutes\n",
      "Epoch: 172/14999 | Loss: 0.0012 | Episodes: 137 | Win count: 17 | Win rate: 0.531 | time: 7.27 minutes\n",
      "Epoch: 173/14999 | Loss: 0.0002 | Episodes: 6 | Win count: 18 | Win rate: 0.562 | time: 7.28 minutes\n",
      "Epoch: 174/14999 | Loss: 0.0012 | Episodes: 23 | Win count: 18 | Win rate: 0.562 | time: 7.29 minutes\n",
      "Epoch: 175/14999 | Loss: 0.0013 | Episodes: 139 | Win count: 18 | Win rate: 0.562 | time: 7.35 minutes\n",
      "Epoch: 176/14999 | Loss: 0.0016 | Episodes: 136 | Win count: 18 | Win rate: 0.562 | time: 7.40 minutes\n",
      "Epoch: 177/14999 | Loss: 0.0011 | Episodes: 139 | Win count: 18 | Win rate: 0.562 | time: 7.47 minutes\n",
      "Epoch: 178/14999 | Loss: 0.0009 | Episodes: 144 | Win count: 18 | Win rate: 0.562 | time: 7.53 minutes\n",
      "Epoch: 179/14999 | Loss: 0.0009 | Episodes: 1 | Win count: 18 | Win rate: 0.562 | time: 7.53 minutes\n",
      "Epoch: 180/14999 | Loss: 0.0000 | Episodes: 144 | Win count: 17 | Win rate: 0.531 | time: 7.59 minutes\n",
      "Epoch: 181/14999 | Loss: 0.0002 | Episodes: 148 | Win count: 16 | Win rate: 0.500 | time: 7.65 minutes\n",
      "Epoch: 182/14999 | Loss: 0.0015 | Episodes: 14 | Win count: 17 | Win rate: 0.531 | time: 7.66 minutes\n",
      "Epoch: 183/14999 | Loss: 0.0015 | Episodes: 139 | Win count: 17 | Win rate: 0.531 | time: 7.72 minutes\n",
      "Epoch: 184/14999 | Loss: 0.0012 | Episodes: 142 | Win count: 17 | Win rate: 0.531 | time: 7.77 minutes\n",
      "Epoch: 185/14999 | Loss: 0.0002 | Episodes: 12 | Win count: 18 | Win rate: 0.562 | time: 7.78 minutes\n",
      "Epoch: 186/14999 | Loss: 0.0002 | Episodes: 1 | Win count: 18 | Win rate: 0.562 | time: 7.78 minutes\n",
      "Epoch: 187/14999 | Loss: 0.0017 | Episodes: 86 | Win count: 18 | Win rate: 0.562 | time: 7.81 minutes\n",
      "Epoch: 188/14999 | Loss: 0.0024 | Episodes: 26 | Win count: 18 | Win rate: 0.562 | time: 7.83 minutes\n",
      "Epoch: 189/14999 | Loss: 0.0008 | Episodes: 4 | Win count: 19 | Win rate: 0.594 | time: 7.83 minutes\n",
      "Epoch: 190/14999 | Loss: 0.0004 | Episodes: 144 | Win count: 18 | Win rate: 0.562 | time: 7.90 minutes\n",
      "Epoch: 191/14999 | Loss: 0.0023 | Episodes: 8 | Win count: 18 | Win rate: 0.562 | time: 7.90 minutes\n",
      "Epoch: 192/14999 | Loss: 0.0002 | Episodes: 134 | Win count: 18 | Win rate: 0.562 | time: 7.97 minutes\n",
      "Epoch: 193/14999 | Loss: 0.0014 | Episodes: 16 | Win count: 18 | Win rate: 0.562 | time: 7.98 minutes\n",
      "Epoch: 194/14999 | Loss: 0.0002 | Episodes: 143 | Win count: 17 | Win rate: 0.531 | time: 8.06 minutes\n",
      "Epoch: 195/14999 | Loss: 0.0004 | Episodes: 144 | Win count: 17 | Win rate: 0.531 | time: 8.12 minutes\n",
      "Epoch: 196/14999 | Loss: 0.0010 | Episodes: 50 | Win count: 17 | Win rate: 0.531 | time: 8.14 minutes\n",
      "Epoch: 197/14999 | Loss: 0.0002 | Episodes: 148 | Win count: 16 | Win rate: 0.500 | time: 8.21 minutes\n",
      "Epoch: 198/14999 | Loss: 0.0001 | Episodes: 92 | Win count: 17 | Win rate: 0.531 | time: 8.25 minutes\n",
      "Epoch: 199/14999 | Loss: 0.0019 | Episodes: 151 | Win count: 16 | Win rate: 0.500 | time: 8.32 minutes\n",
      "Epoch: 200/14999 | Loss: 0.0020 | Episodes: 135 | Win count: 15 | Win rate: 0.469 | time: 8.38 minutes\n",
      "Epoch: 201/14999 | Loss: 0.0002 | Episodes: 3 | Win count: 15 | Win rate: 0.469 | time: 8.38 minutes\n",
      "Epoch: 202/14999 | Loss: 0.0006 | Episodes: 50 | Win count: 16 | Win rate: 0.500 | time: 8.41 minutes\n",
      "Epoch: 203/14999 | Loss: 0.0015 | Episodes: 134 | Win count: 15 | Win rate: 0.469 | time: 8.47 minutes\n",
      "Epoch: 204/14999 | Loss: 0.0001 | Episodes: 141 | Win count: 15 | Win rate: 0.469 | time: 8.53 minutes\n",
      "Epoch: 205/14999 | Loss: 0.0008 | Episodes: 62 | Win count: 15 | Win rate: 0.469 | time: 8.56 minutes\n",
      "Epoch: 206/14999 | Loss: 0.0022 | Episodes: 144 | Win count: 14 | Win rate: 0.438 | time: 8.62 minutes\n",
      "Epoch: 207/14999 | Loss: 0.0004 | Episodes: 142 | Win count: 14 | Win rate: 0.438 | time: 8.69 minutes\n",
      "Epoch: 208/14999 | Loss: 0.0015 | Episodes: 15 | Win count: 15 | Win rate: 0.469 | time: 8.70 minutes\n",
      "Epoch: 209/14999 | Loss: 0.0021 | Episodes: 143 | Win count: 15 | Win rate: 0.469 | time: 8.77 minutes\n",
      "Epoch: 210/14999 | Loss: 0.0003 | Episodes: 119 | Win count: 16 | Win rate: 0.500 | time: 8.82 minutes\n",
      "Epoch: 211/14999 | Loss: 0.0023 | Episodes: 17 | Win count: 16 | Win rate: 0.500 | time: 8.83 minutes\n",
      "Epoch: 212/14999 | Loss: 0.0002 | Episodes: 143 | Win count: 16 | Win rate: 0.500 | time: 8.90 minutes\n",
      "Epoch: 213/14999 | Loss: 0.0014 | Episodes: 16 | Win count: 17 | Win rate: 0.531 | time: 8.91 minutes\n",
      "Epoch: 214/14999 | Loss: 0.0001 | Episodes: 140 | Win count: 16 | Win rate: 0.500 | time: 8.98 minutes\n",
      "Epoch: 215/14999 | Loss: 0.0014 | Episodes: 142 | Win count: 16 | Win rate: 0.500 | time: 9.05 minutes\n",
      "Epoch: 216/14999 | Loss: 0.0021 | Episodes: 35 | Win count: 17 | Win rate: 0.531 | time: 9.07 minutes\n",
      "Epoch: 217/14999 | Loss: 0.0028 | Episodes: 148 | Win count: 16 | Win rate: 0.500 | time: 9.14 minutes\n",
      "Epoch: 218/14999 | Loss: 0.0013 | Episodes: 69 | Win count: 16 | Win rate: 0.500 | time: 9.18 minutes\n",
      "Epoch: 219/14999 | Loss: 0.0025 | Episodes: 8 | Win count: 16 | Win rate: 0.500 | time: 9.18 minutes\n",
      "Epoch: 220/14999 | Loss: 0.0004 | Episodes: 70 | Win count: 16 | Win rate: 0.500 | time: 9.21 minutes\n",
      "Epoch: 221/14999 | Loss: 0.0017 | Episodes: 23 | Win count: 16 | Win rate: 0.500 | time: 9.22 minutes\n",
      "Epoch: 222/14999 | Loss: 0.0015 | Episodes: 107 | Win count: 17 | Win rate: 0.531 | time: 9.28 minutes\n",
      "Epoch: 223/14999 | Loss: 0.0023 | Episodes: 138 | Win count: 16 | Win rate: 0.500 | time: 9.35 minutes\n",
      "Epoch: 224/14999 | Loss: 0.0018 | Episodes: 7 | Win count: 17 | Win rate: 0.531 | time: 9.35 minutes\n",
      "Epoch: 225/14999 | Loss: 0.0010 | Episodes: 42 | Win count: 17 | Win rate: 0.531 | time: 9.37 minutes\n",
      "Epoch: 226/14999 | Loss: 0.0020 | Episodes: 43 | Win count: 18 | Win rate: 0.562 | time: 9.39 minutes\n",
      "Epoch: 227/14999 | Loss: 0.0015 | Episodes: 120 | Win count: 19 | Win rate: 0.594 | time: 9.44 minutes\n",
      "Epoch: 228/14999 | Loss: 0.0014 | Episodes: 9 | Win count: 19 | Win rate: 0.594 | time: 9.45 minutes\n",
      "Epoch: 229/14999 | Loss: 0.0017 | Episodes: 127 | Win count: 20 | Win rate: 0.625 | time: 9.51 minutes\n",
      "Epoch: 230/14999 | Loss: 0.0009 | Episodes: 1 | Win count: 20 | Win rate: 0.625 | time: 9.51 minutes\n",
      "Epoch: 231/14999 | Loss: 0.0015 | Episodes: 3 | Win count: 21 | Win rate: 0.656 | time: 9.51 minutes\n",
      "Epoch: 232/14999 | Loss: 0.0011 | Episodes: 4 | Win count: 22 | Win rate: 0.688 | time: 9.51 minutes\n",
      "Epoch: 233/14999 | Loss: 0.0023 | Episodes: 12 | Win count: 22 | Win rate: 0.688 | time: 9.52 minutes\n",
      "Epoch: 234/14999 | Loss: 0.0009 | Episodes: 24 | Win count: 22 | Win rate: 0.688 | time: 9.52 minutes\n",
      "Epoch: 235/14999 | Loss: 0.0020 | Episodes: 12 | Win count: 23 | Win rate: 0.719 | time: 9.53 minutes\n",
      "Epoch: 236/14999 | Loss: 0.0020 | Episodes: 144 | Win count: 23 | Win rate: 0.719 | time: 9.60 minutes\n",
      "Epoch: 237/14999 | Loss: 0.0010 | Episodes: 137 | Win count: 23 | Win rate: 0.719 | time: 9.66 minutes\n",
      "Epoch: 238/14999 | Loss: 0.0006 | Episodes: 26 | Win count: 24 | Win rate: 0.750 | time: 9.67 minutes\n",
      "Epoch: 239/14999 | Loss: 0.0013 | Episodes: 143 | Win count: 24 | Win rate: 0.750 | time: 9.73 minutes\n",
      "Epoch: 240/14999 | Loss: 0.0018 | Episodes: 11 | Win count: 24 | Win rate: 0.750 | time: 9.73 minutes\n"
     ]
    },
    {
     "name": "stdout",
     "output_type": "stream",
     "text": [
      "Epoch: 241/14999 | Loss: 0.0013 | Episodes: 8 | Win count: 25 | Win rate: 0.781 | time: 9.74 minutes\n",
      "Epoch: 242/14999 | Loss: 0.0011 | Episodes: 3 | Win count: 25 | Win rate: 0.781 | time: 9.74 minutes\n",
      "Epoch: 243/14999 | Loss: 0.0005 | Episodes: 32 | Win count: 25 | Win rate: 0.781 | time: 9.76 minutes\n",
      "Epoch: 244/14999 | Loss: 0.0007 | Episodes: 144 | Win count: 25 | Win rate: 0.781 | time: 9.83 minutes\n",
      "Epoch: 245/14999 | Loss: 0.0011 | Episodes: 15 | Win count: 25 | Win rate: 0.781 | time: 9.83 minutes\n",
      "Epoch: 246/14999 | Loss: 0.0022 | Episodes: 147 | Win count: 26 | Win rate: 0.812 | time: 9.90 minutes\n",
      "Epoch: 247/14999 | Loss: 0.0015 | Episodes: 2 | Win count: 27 | Win rate: 0.844 | time: 9.90 minutes\n",
      "Epoch: 248/14999 | Loss: 0.0010 | Episodes: 5 | Win count: 27 | Win rate: 0.844 | time: 9.91 minutes\n",
      "Epoch: 249/14999 | Loss: 0.0017 | Episodes: 70 | Win count: 28 | Win rate: 0.875 | time: 9.94 minutes\n",
      "Epoch: 250/14999 | Loss: 0.0012 | Episodes: 6 | Win count: 28 | Win rate: 0.875 | time: 9.94 minutes\n",
      "Epoch: 251/14999 | Loss: 0.0001 | Episodes: 15 | Win count: 28 | Win rate: 0.875 | time: 9.95 minutes\n",
      "Epoch: 252/14999 | Loss: 0.0013 | Episodes: 50 | Win count: 28 | Win rate: 0.875 | time: 9.97 minutes\n",
      "Epoch: 253/14999 | Loss: 0.0012 | Episodes: 27 | Win count: 28 | Win rate: 0.875 | time: 9.98 minutes\n",
      "Epoch: 254/14999 | Loss: 0.0027 | Episodes: 100 | Win count: 28 | Win rate: 0.875 | time: 10.03 minutes\n",
      "Epoch: 255/14999 | Loss: 0.0013 | Episodes: 32 | Win count: 29 | Win rate: 0.906 | time: 10.05 minutes\n",
      "Epoch: 256/14999 | Loss: 0.0019 | Episodes: 45 | Win count: 29 | Win rate: 0.906 | time: 10.07 minutes\n",
      "Epoch: 257/14999 | Loss: 0.0014 | Episodes: 36 | Win count: 29 | Win rate: 0.906 | time: 10.09 minutes\n",
      "Epoch: 258/14999 | Loss: 0.0020 | Episodes: 86 | Win count: 29 | Win rate: 0.906 | time: 10.13 minutes\n",
      "Epoch: 259/14999 | Loss: 0.0017 | Episodes: 47 | Win count: 29 | Win rate: 0.906 | time: 10.15 minutes\n",
      "Epoch: 260/14999 | Loss: 0.0018 | Episodes: 66 | Win count: 29 | Win rate: 0.906 | time: 10.18 minutes\n",
      "Epoch: 261/14999 | Loss: 0.0008 | Episodes: 19 | Win count: 29 | Win rate: 0.906 | time: 10.19 minutes\n",
      "Epoch: 262/14999 | Loss: 0.0013 | Episodes: 19 | Win count: 29 | Win rate: 0.906 | time: 10.20 minutes\n",
      "Epoch: 263/14999 | Loss: 0.0017 | Episodes: 24 | Win count: 29 | Win rate: 0.906 | time: 10.21 minutes\n",
      "Epoch: 264/14999 | Loss: 0.0023 | Episodes: 43 | Win count: 29 | Win rate: 0.906 | time: 10.23 minutes\n",
      "Epoch: 265/14999 | Loss: 0.0016 | Episodes: 55 | Win count: 29 | Win rate: 0.906 | time: 10.25 minutes\n",
      "Epoch: 266/14999 | Loss: 0.0011 | Episodes: 10 | Win count: 29 | Win rate: 0.906 | time: 10.26 minutes\n",
      "Epoch: 267/14999 | Loss: 0.0027 | Episodes: 4 | Win count: 29 | Win rate: 0.906 | time: 10.26 minutes\n",
      "Epoch: 268/14999 | Loss: 0.0031 | Episodes: 21 | Win count: 30 | Win rate: 0.938 | time: 10.27 minutes\n",
      "Epoch: 269/14999 | Loss: 0.0023 | Episodes: 2 | Win count: 30 | Win rate: 0.938 | time: 10.27 minutes\n",
      "Epoch: 270/14999 | Loss: 0.0013 | Episodes: 85 | Win count: 30 | Win rate: 0.938 | time: 10.31 minutes\n",
      "Epoch: 271/14999 | Loss: 0.0014 | Episodes: 10 | Win count: 31 | Win rate: 0.969 | time: 10.31 minutes\n",
      "Epoch: 272/14999 | Loss: 0.0019 | Episodes: 16 | Win count: 31 | Win rate: 0.969 | time: 10.32 minutes\n",
      "Epoch: 273/14999 | Loss: 0.0018 | Episodes: 19 | Win count: 31 | Win rate: 0.969 | time: 10.33 minutes\n",
      "Epoch: 274/14999 | Loss: 0.0004 | Episodes: 47 | Win count: 31 | Win rate: 0.969 | time: 10.35 minutes\n",
      "Epoch: 275/14999 | Loss: 0.0016 | Episodes: 5 | Win count: 31 | Win rate: 0.969 | time: 10.35 minutes\n",
      "Epoch: 276/14999 | Loss: 0.0009 | Episodes: 42 | Win count: 32 | Win rate: 1.000 | time: 10.37 minutes\n",
      "Reached 100% win rate at epoch: 276\n",
      "Training complete in 10.37 minutes\n"
     ]
    },
    {
     "data": {
      "text/plain": [
       "<keras.engine.sequential.Sequential at 0x2661429aa08>"
      ]
     },
     "execution_count": 210,
     "metadata": {},
     "output_type": "execute_result"
    }
   ],
   "source": [
    "model = build_model(maze)\n",
    "qtrain(model, maze, epochs=1000, max_memory=8*maze.size, data_size=32)"
   ]
  },
  {
   "cell_type": "markdown",
   "metadata": {},
   "source": [
    "This cell will check to see if the model passes the completion check. Note: This could take several minutes."
   ]
  },
  {
   "cell_type": "code",
   "execution_count": 211,
   "metadata": {},
   "outputs": [
    {
     "data": {
      "text/plain": [
       "<matplotlib.image.AxesImage at 0x26612847988>"
      ]
     },
     "execution_count": 211,
     "metadata": {},
     "output_type": "execute_result"
    },
    {
     "data": {
      "image/png": "[encoded data removed]",
      "text/plain": [
       "<Figure size 432x288 with 1 Axes>"
      ]
     },
     "metadata": {
      "needs_background": "light"
     },
     "output_type": "display_data"
    }
   ],
   "source": [
    "completion_check(model, qmaze)\n",
    "show(qmaze)"
   ]
  },
  {
   "cell_type": "markdown",
   "metadata": {},
   "source": [
    "This cell will test your model for one game. It will start the pirate at the top-left corner and run play_game. The agent should find a path from the starting position to the target (treasure). The treasure is located in the bottom-right corner."
   ]
  },
  {
   "cell_type": "code",
   "execution_count": 213,
   "metadata": {},
   "outputs": [
    {
     "data": {
      "text/plain": [
       "<matplotlib.image.AxesImage at 0x26617b822c8>"
      ]
     },
     "execution_count": 213,
     "metadata": {},
     "output_type": "execute_result"
    },
    {
     "data": {
      "image/png": "[encoded data removed]",
      "text/plain": [
       "<Figure size 432x288 with 1 Axes>"
      ]
     },
     "metadata": {
      "needs_background": "light"
     },
     "output_type": "display_data"
    }
   ],
   "source": [
    "pirate_start = (0, 0)\n",
    "play_game(model, qmaze, pirate_start)\n",
    "show(qmaze)"
   ]
  },
  {
   "cell_type": "markdown",
   "metadata": {},
   "source": [
    "## Save and Submit Your Work\n",
    "After you have finished creating the code for your notebook, save your work. Make sure that your notebook contains your name in the filename (e.g. Doe_Jane_ProjectTwo.ipynb). This will help your instructor access and grade your work easily. Download a copy of your IPYNB file and submit it to Brightspace. Refer to the Jupyter Notebook in Apporto Tutorial if you need help with these tasks."
   ]
  }
 ],
 "metadata": {
  "kernelspec": {
   "display_name": "Python 3",
   "language": "python",
   "name": "python3"
  },
  "language_info": {
   "codemirror_mode": {
    "name": "ipython",
    "version": 3
   },
   "file_extension": ".py",
   "mimetype": "text/x-python",
   "name": "python",
   "nbconvert_exporter": "python",
   "pygments_lexer": "ipython3",
   "version": "3.7.4"
  }
 },
 "nbformat": 4,
 "nbformat_minor": 2
}
